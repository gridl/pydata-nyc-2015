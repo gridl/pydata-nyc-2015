{
 "cells": [
  {
   "cell_type": "code",
   "execution_count": 2,
   "metadata": {
    "collapsed": false,
    "slideshow": {
     "slide_type": "skip"
    }
   },
   "outputs": [],
   "source": [
    "%matplotlib inline\n",
    "import matplotlib.pyplot as plt\n",
    "from matplotlib.markers import MarkerStyle\n",
    "import pandas as pd\n",
    "import seaborn as sns\n",
    "import numpy as np\n",
    "\n",
    "np.set_printoptions(threshold=30)\n",
    "pd.set_option('display.max_rows', 15)\n",
    "pd.set_option('display.max_columns', 15)\n",
    "sns.set(style=\"whitegrid\", context=\"poster\", font_scale=1.3)"
   ]
  },
  {
   "cell_type": "markdown",
   "metadata": {
    "slideshow": {
     "slide_type": "slide"
    }
   },
   "source": [
    "<center>\n",
    "  <h1>Developing an Expression Language for Quantitative Financial Modeling</h1><br>\n",
    "  <h2>Scott Sanderson</h2><br>\n",
    "  <a href=\"https://github.com/ssanderson/pydata-nyc-2015\">https://github.com/ssanderson/pydata-nyc-2015</a>\n",
    "</center>"
   ]
  },
  {
   "cell_type": "markdown",
   "metadata": {
    "slideshow": {
     "slide_type": "slide"
    }
   },
   "source": [
    "# About Me:\n",
    "\n",
    "<img src=\"images/me.jpg\" alt=\"Drawing\" style=\"width: 300px;\"/>\n",
    "\n",
    "- API Design Lead at [Quantopian](www.quantopian.com)\n",
    "- Background in Mathematics and Philosophy\n",
    "- **Twitter:** [@ssanderson11235](https://twitter.com/ssanderson11235)\n",
    "- **GitHub:** [ssanderson](github.com/ssanderson)\n"
   ]
  },
  {
   "cell_type": "markdown",
   "metadata": {
    "slideshow": {
     "slide_type": "slide"
    }
   },
   "source": [
    "# Outline\n",
    "\n",
    "- Trading API Design 101\n",
    "- Benefits of Symbolic Computation\n",
    "- Demo\n",
    "- The Joys of Financial Data\n",
    "- Future Work"
   ]
  },
  {
   "cell_type": "markdown",
   "metadata": {
    "slideshow": {
     "slide_type": "slide"
    }
   },
   "source": [
    "# What Is a Trading Algorithm?"
   ]
  },
  {
   "cell_type": "markdown",
   "metadata": {
    "slideshow": {
     "slide_type": "subslide"
    }
   },
   "source": [
    "![Lots of Boxes and Arrow, apparently](images/algo-diagrams.png)"
   ]
  },
  {
   "cell_type": "markdown",
   "metadata": {
    "slideshow": {
     "slide_type": "subslide"
    }
   },
   "source": [
    "**Any program** is a function from **current state of the world** $\\rightarrow$ **side effects**."
   ]
  },
  {
   "cell_type": "markdown",
   "metadata": {
    "slideshow": {
     "slide_type": "fragment"
    }
   },
   "source": [
    "**Our World State:**\n",
    "- Current Portfolio State (e.g. Position Counts, Available Cash)\n",
    "- Per-Asset Data (Price/Volume Data, Fundamentals, many more exotic sources)\n",
    "- Global Macroeconomic Data (Oil Prices, Unemployment, GDP)\n",
    "\n",
    "**Our Side Effects:**\n",
    "- Orders\n",
    "- Cancellations"
   ]
  },
  {
   "cell_type": "markdown",
   "metadata": {
    "slideshow": {
     "slide_type": "slide"
    }
   },
   "source": [
    "# Good APIs Encourage  Problem Decomposition\n",
    "![Problem Decomposition](images/decomposition.svg)"
   ]
  },
  {
   "cell_type": "markdown",
   "metadata": {
    "slideshow": {
     "slide_type": "subslide"
    }
   },
   "source": [
    "### Large Problem \n",
    "\n",
    "**Place Orders Based on State of the World**"
   ]
  },
  {
   "cell_type": "markdown",
   "metadata": {
    "slideshow": {
     "slide_type": "subslide"
    }
   },
   "source": [
    "### Medium Problems\n",
    "- **Compute desired portfolio allocations.**\n",
    "- Place orders to move from current allocations toward desired allocations."
   ]
  },
  {
   "cell_type": "markdown",
   "metadata": {
    "slideshow": {
     "slide_type": "subslide"
    }
   },
   "source": [
    "### Small Problems: \n",
    "- **Compute desired portfolio allocations.**\n",
    "    - Choose input data.\n",
    "    - Decide what values we want to compute on the data.\n",
    "      - Reductions\n",
    "      - Boolean Masks\n",
    "      - Categoricals/Classifiers\n",
    "    - Combine and Compare Computed Values\n",
    "      - Weighted Combinations\n",
    "      - Ranking\n",
    "      - Filtering\n",
    "      - Normalization"
   ]
  },
  {
   "cell_type": "markdown",
   "metadata": {
    "slideshow": {
     "slide_type": "subslide"
    }
   },
   "source": [
    "Many of these atomic computations share a **common structure**:\n",
    "\n",
    "1. Get last N periods worth of data.  (Sometimes N is just 1.)\n",
    "2. Apply a reduction function to produce a single-valued output."
   ]
  },
  {
   "cell_type": "markdown",
   "metadata": {
    "slideshow": {
     "slide_type": "subslide"
    }
   },
   "source": [
    "Three Major Kinds of Expression:\n",
    " - **Factors** produce numerical-valued results.\n",
    " - **Filters** produce boolean-valued results.\n",
    " - **Classifiers** produce categorical-valued results.\n",
    " \n",
    "We can compose symbolic expressions differently based the type of data they produce."
   ]
  },
  {
   "cell_type": "markdown",
   "metadata": {
    "slideshow": {
     "slide_type": "subslide"
    }
   },
   "source": [
    "## Factors\n",
    "\n",
    "- Factors are reductions producing **numerically-valued** outputs.\n",
    "- `mean`, `median`, `first`, `last`, `stddev`, etc.\n",
    "- Factors can be added, subtracted, etc.\n",
    "- Factors can produce new factors via operations like `rank()` or `zscore()`."
   ]
  },
  {
   "cell_type": "markdown",
   "metadata": {
    "slideshow": {
     "slide_type": "subslide"
    }
   },
   "source": [
    "## Filters\n",
    "\n",
    "- Filters are reductions producing **boolean-valued** outputs.\n",
    "- Most commonly constructed via comparision operators (e.g. `factor1 > factor2`).\n",
    "- Can be combined via `&` and `|`.\n",
    "- Can be used as **masks** for operations like `rank()` and `percentile()`."
   ]
  },
  {
   "cell_type": "markdown",
   "metadata": {
    "slideshow": {
     "slide_type": "subslide"
    }
   },
   "source": [
    "# Classifiers\n",
    "\n",
    "- Classifiers are reductions producing **categorical-valued** outputs.\n",
    "- Can be combined via operations like `cross_product()`.\n",
    "- Can be used to defining grouping criteria for normalizations.\n",
    "  - **Example:** \"Compute earnings of each stock minus the mean of the earnings for stock in the same industry.\""
   ]
  },
  {
   "cell_type": "markdown",
   "metadata": {
    "slideshow": {
     "slide_type": "subslide"
    }
   },
   "source": [
    "## \"Platonic\" Target Algorithm:\n",
    "\n",
    "1. For each asset in a known (large) universe, look at trailing windows of data and compute **`Factors`** (numerical-valued expressions), **`Filters`** (boolean-valued expressions) and **`Classifiers`** (categorical-valued expressions).\n",
    "2. Compose meta-expressions by combining computed values.\n",
    "3. Use outputs from **`(2)`** to compute desired portfolio allocations.\n",
    "4. Compare desired to current allocations and place orders to reconcile the difference."
   ]
  },
  {
   "cell_type": "markdown",
   "metadata": {
    "slideshow": {
     "slide_type": "slide"
    }
   },
   "source": [
    "# Design Goals\n",
    "\n",
    "- Make it easy to **share** common transformations.\n",
    "- Make it easy to **compose** transformations.\n",
    "- Be performant enough look at operate on large universes without slowing down backtests.\n",
    "- Be **abstract** enough that the underlying machinery can be changed without breaking lots of APIs."
   ]
  },
  {
   "cell_type": "markdown",
   "metadata": {
    "slideshow": {
     "slide_type": "slide"
    }
   },
   "source": [
    "# ~~Software~~ Symbolic Computation is Eating the World"
   ]
  },
  {
   "cell_type": "markdown",
   "metadata": {
    "slideshow": {
     "slide_type": "subslide"
    }
   },
   "source": [
    "Symbolic and/or deferred computation frameworks are increasingly the norm for providing a high-level API to performant code.  \n",
    "\n",
    "In the PyData ecosystem alone we have:\n",
    "- Blaze\n",
    "- Dask\n",
    "- Ibis\n",
    "- Theano\n",
    "- Tensorflow (as of yesterday!)"
   ]
  },
  {
   "cell_type": "markdown",
   "metadata": {
    "slideshow": {
     "slide_type": "subslide"
    }
   },
   "source": [
    "### Optimization\n",
    "- Common subexpression elimination.\n",
    "- Caching/precomputation of pure functions. \n",
    "- Rewriting of equivalent terms (e.g. `a + a + a` -> `3a`)."
   ]
  },
  {
   "cell_type": "markdown",
   "metadata": {
    "slideshow": {
     "slide_type": "subslide"
    }
   },
   "source": [
    "### Abstraction\n",
    "- Framework can change how computations are executed under the hood without breaking public APIs.\n",
    "- Framework can support multiple execution styles in different contexts:\n",
    "  - Blaze can compute the same abstract expression against `SQL` or `numpy`.\n",
    "  - Dask can compute single-threaded, multi-threaded, multi-process, or multi-machine."
   ]
  },
  {
   "cell_type": "markdown",
   "metadata": {
    "slideshow": {
     "slide_type": "subslide"
    }
   },
   "source": [
    "### Correctness\n",
    "- Symbolic computation frameworks tend to encourage immutability of data structures, eliminating many classes of bugs.\n",
    "- Type systems can catch bugs at \"expression compile\" time, providing many of the benefits of a traditional compiler."
   ]
  },
  {
   "cell_type": "markdown",
   "metadata": {
    "slideshow": {
     "slide_type": "slide"
    }
   },
   "source": [
    "# Demo Time"
   ]
  },
  {
   "cell_type": "markdown",
   "metadata": {
    "collapsed": true,
    "slideshow": {
     "slide_type": "slide"
    }
   },
   "source": [
    "# The Joys of Financial Data"
   ]
  },
  {
   "cell_type": "markdown",
   "metadata": {
    "slideshow": {
     "slide_type": "fragment"
    }
   },
   "source": [
    "or\n",
    "### \"How hard can it be to get the last 30 days of price?\""
   ]
  },
  {
   "cell_type": "markdown",
   "metadata": {
    "slideshow": {
     "slide_type": "subslide"
    }
   },
   "source": [
    "### Harder than one might think, unfortunately.\n",
    "- Companies are constantly created and dissolved.\n",
    "- Splits, Dividends, and Mergers render past and current prices/volumes incomparable.\n",
    "- Restatements are tricky to model correctly in a simulation."
   ]
  },
  {
   "cell_type": "markdown",
   "metadata": {
    "slideshow": {
     "slide_type": "subslide"
    }
   },
   "source": [
    "# Asset Flux"
   ]
  },
  {
   "cell_type": "code",
   "execution_count": 3,
   "metadata": {
    "collapsed": false,
    "slideshow": {
     "slide_type": "subslide"
    }
   },
   "outputs": [
    {
     "data": {
      "text/html": [
       "<div style=\"max-height:1000px;max-width:1500px;overflow:auto;\">\n",
       "<table border=\"1\" class=\"dataframe\">\n",
       "  <thead>\n",
       "    <tr style=\"text-align: right;\">\n",
       "      <th></th>\n",
       "      <th>2</th>\n",
       "      <th>6</th>\n",
       "      <th>14</th>\n",
       "      <th>21</th>\n",
       "      <th>24</th>\n",
       "      <th>25</th>\n",
       "      <th>31</th>\n",
       "      <th>...</th>\n",
       "      <th>49526</th>\n",
       "      <th>49528</th>\n",
       "      <th>49529</th>\n",
       "      <th>49530</th>\n",
       "      <th>49531</th>\n",
       "      <th>49532</th>\n",
       "      <th>49533</th>\n",
       "    </tr>\n",
       "  </thead>\n",
       "  <tbody>\n",
       "    <tr>\n",
       "      <th>2001-01-01</th>\n",
       "      <td>True</td>\n",
       "      <td>True</td>\n",
       "      <td>True</td>\n",
       "      <td>True</td>\n",
       "      <td>True</td>\n",
       "      <td>True</td>\n",
       "      <td>True</td>\n",
       "      <td>...</td>\n",
       "      <td>False</td>\n",
       "      <td>False</td>\n",
       "      <td>False</td>\n",
       "      <td>False</td>\n",
       "      <td>False</td>\n",
       "      <td>False</td>\n",
       "      <td>False</td>\n",
       "    </tr>\n",
       "    <tr>\n",
       "      <th>2001-01-02</th>\n",
       "      <td>True</td>\n",
       "      <td>True</td>\n",
       "      <td>True</td>\n",
       "      <td>True</td>\n",
       "      <td>True</td>\n",
       "      <td>True</td>\n",
       "      <td>True</td>\n",
       "      <td>...</td>\n",
       "      <td>False</td>\n",
       "      <td>False</td>\n",
       "      <td>False</td>\n",
       "      <td>False</td>\n",
       "      <td>False</td>\n",
       "      <td>False</td>\n",
       "      <td>False</td>\n",
       "    </tr>\n",
       "    <tr>\n",
       "      <th>2001-01-03</th>\n",
       "      <td>True</td>\n",
       "      <td>True</td>\n",
       "      <td>True</td>\n",
       "      <td>True</td>\n",
       "      <td>True</td>\n",
       "      <td>True</td>\n",
       "      <td>True</td>\n",
       "      <td>...</td>\n",
       "      <td>False</td>\n",
       "      <td>False</td>\n",
       "      <td>False</td>\n",
       "      <td>False</td>\n",
       "      <td>False</td>\n",
       "      <td>False</td>\n",
       "      <td>False</td>\n",
       "    </tr>\n",
       "    <tr>\n",
       "      <th>2001-01-04</th>\n",
       "      <td>True</td>\n",
       "      <td>True</td>\n",
       "      <td>True</td>\n",
       "      <td>True</td>\n",
       "      <td>True</td>\n",
       "      <td>True</td>\n",
       "      <td>True</td>\n",
       "      <td>...</td>\n",
       "      <td>False</td>\n",
       "      <td>False</td>\n",
       "      <td>False</td>\n",
       "      <td>False</td>\n",
       "      <td>False</td>\n",
       "      <td>False</td>\n",
       "      <td>False</td>\n",
       "    </tr>\n",
       "    <tr>\n",
       "      <th>2001-01-05</th>\n",
       "      <td>True</td>\n",
       "      <td>True</td>\n",
       "      <td>True</td>\n",
       "      <td>True</td>\n",
       "      <td>True</td>\n",
       "      <td>True</td>\n",
       "      <td>True</td>\n",
       "      <td>...</td>\n",
       "      <td>False</td>\n",
       "      <td>False</td>\n",
       "      <td>False</td>\n",
       "      <td>False</td>\n",
       "      <td>False</td>\n",
       "      <td>False</td>\n",
       "      <td>False</td>\n",
       "    </tr>\n",
       "  </tbody>\n",
       "</table>\n",
       "<p>5 rows × 20353 columns</p>\n",
       "</div>"
      ],
      "text/plain": [
       "           2     6     14    21    24    25    31     ...    49526  49528  \\\n",
       "2001-01-01  True  True  True  True  True  True  True  ...    False  False   \n",
       "2001-01-02  True  True  True  True  True  True  True  ...    False  False   \n",
       "2001-01-03  True  True  True  True  True  True  True  ...    False  False   \n",
       "2001-01-04  True  True  True  True  True  True  True  ...    False  False   \n",
       "2001-01-05  True  True  True  True  True  True  True  ...    False  False   \n",
       "\n",
       "            49529  49530  49531  49532  49533  \n",
       "2001-01-01  False  False  False  False  False  \n",
       "2001-01-02  False  False  False  False  False  \n",
       "2001-01-03  False  False  False  False  False  \n",
       "2001-01-04  False  False  False  False  False  \n",
       "2001-01-05  False  False  False  False  False  \n",
       "\n",
       "[5 rows x 20353 columns]"
      ]
     },
     "execution_count": 3,
     "metadata": {},
     "output_type": "execute_result"
    }
   ],
   "source": [
    "from zipline.assets import AssetFinder\n",
    " \n",
    "finder = AssetFinder(\"sqlite:///data/assets.db\")\n",
    "lifetimes = finder.lifetimes(\n",
    "    dates=pd.date_range('2001-01-01', '2015-10-01'), \n",
    "    include_start_date=True,\n",
    ")\n",
    "lifetimes.head(5)"
   ]
  },
  {
   "cell_type": "code",
   "execution_count": 4,
   "metadata": {
    "collapsed": false,
    "slideshow": {
     "slide_type": "subslide"
    }
   },
   "outputs": [
    {
     "data": {
      "image/png": "[encoded data removed]",
      "text/plain": [
       "<matplotlib.figure.Figure at 0x7f47c437fd50>"
      ]
     },
     "metadata": {},
     "output_type": "display_data"
    }
   ],
   "source": [
    "daily_count = lifetimes.sum(axis=1)\n",
    "daily_count.plot(title=\"Companies in Existence by Day\");"
   ]
  },
  {
   "cell_type": "markdown",
   "metadata": {
    "slideshow": {
     "slide_type": "slide"
    }
   },
   "source": [
    "# Splits, Dividends, and Mergers Oh My!"
   ]
  },
  {
   "cell_type": "code",
   "execution_count": 5,
   "metadata": {
    "collapsed": false,
    "slideshow": {
     "slide_type": "subslide"
    }
   },
   "outputs": [],
   "source": [
    "AAPL_prices = pd.read_csv(\n",
    "    'data_public/AAPL-split.csv', \n",
    "    parse_dates=['Date'], \n",
    "    index_col='Date',\n",
    ")\n",
    "\n",
    "def plot_prices(prices):\n",
    "    price_plot = prices.plot(title='AAPL Price', grid=False)\n",
    "    price_plot.set_ylabel(\"Price\", rotation='horizontal', labelpad=50)\n",
    "    price_plot.vlines(\n",
    "        ['2014-05-08'], 0, 700, \n",
    "        label=\"$3.05 Dividend\", \n",
    "        linestyles='dotted',\n",
    "        colors='black',\n",
    "    )\n",
    "    price_plot.vlines(\n",
    "        ['2014-06-09'], 0, 700, \n",
    "        label=\"7:1 Split\", \n",
    "        linestyles='--', \n",
    "        colors='black',\n",
    "    )\n",
    "\n",
    "    price_plot.legend()\n",
    "    sns.despine()\n",
    "    return price_plot"
   ]
  },
  {
   "cell_type": "code",
   "execution_count": 6,
   "metadata": {
    "collapsed": false,
    "scrolled": false,
    "slideshow": {
     "slide_type": "subslide"
    }
   },
   "outputs": [
    {
     "data": {
      "image/png": "[encoded data removed]",
      "text/plain": [
       "<matplotlib.figure.Figure at 0x7f479534ec90>"
      ]
     },
     "metadata": {},
     "output_type": "display_data"
    }
   ],
   "source": [
    "plot_prices(AAPL_prices);"
   ]
  },
  {
   "cell_type": "markdown",
   "metadata": {
    "slideshow": {
     "slide_type": "subslide"
    }
   },
   "source": [
    "### Prices occurring at different times aren't necessarily comparable."
   ]
  },
  {
   "cell_type": "code",
   "execution_count": 7,
   "metadata": {
    "collapsed": false,
    "slideshow": {
     "slide_type": "-"
    }
   },
   "outputs": [
    {
     "data": {
      "image/png": "[encoded data removed]",
      "text/plain": [
       "<matplotlib.figure.Figure at 0x7f4795291e10>"
      ]
     },
     "metadata": {},
     "output_type": "display_data"
    }
   ],
   "source": [
    "naive_returns = AAPL_prices.pct_change()\n",
    "naive_returns.plot();"
   ]
  },
  {
   "cell_type": "markdown",
   "metadata": {
    "slideshow": {
     "slide_type": "subslide"
    }
   },
   "source": [
    "# Restatements"
   ]
  },
  {
   "cell_type": "markdown",
   "metadata": {
    "slideshow": {
     "slide_type": "subslide"
    }
   },
   "source": [
    "### Hypothetical Scenario:\n",
    "- On March 5th, Apple announces that it's Q1 revenue was \\$15.\n",
    "- On March 15th, Apple issues an amendment; its Q1 revenue was actually \\$15 **billion**.\n",
    "- User asks for Apple's Q1 revenue."
   ]
  },
  {
   "cell_type": "markdown",
   "metadata": {
    "slideshow": {
     "slide_type": "fragment"
    }
   },
   "source": [
    "**Question:** What's the \"correct\" value to return?"
   ]
  },
  {
   "cell_type": "markdown",
   "metadata": {
    "slideshow": {
     "slide_type": "fragment"
    }
   },
   "source": [
    "**Answer:** It depends.\n",
    "\n",
    "- On March 4th, the right answer is \"I don't know\".\n",
    "- On Marth 6th, the right answer (as of that date) is \\$15.\n",
    "- On Marth 16th, the right answer is \\$15 billion."
   ]
  },
  {
   "cell_type": "markdown",
   "metadata": {
    "slideshow": {
     "slide_type": "slide"
    }
   },
   "source": [
    "# Perspectival Data"
   ]
  },
  {
   "cell_type": "markdown",
   "metadata": {
    "slideshow": {
     "slide_type": "subslide"
    }
   },
   "source": [
    "Traditional solution to above problems is to use \"Adjusted Prices\"."
   ]
  },
  {
   "cell_type": "markdown",
   "metadata": {
    "slideshow": {
     "slide_type": "fragment"
    }
   },
   "source": [
    "- Generally means making prices comparable by normalizing everything to current-day prices.  \n",
    "- This is what you get from Yahoo/Google Finance APIs."
   ]
  },
  {
   "cell_type": "markdown",
   "metadata": {
    "slideshow": {
     "slide_type": "subslide"
    }
   },
   "source": [
    "## Problems with Adjusted Prices:\n",
    "- Non-reproducible:\n",
    "  - A backtest run in real time 2014 will see different values for historical prices than a backtest run today."
   ]
  },
  {
   "cell_type": "markdown",
   "metadata": {
    "slideshow": {
     "slide_type": "fragment"
    }
   },
   "source": [
    "- Can potentially introduce subtle biases:\n",
    "  - If algo has access to real price, it can tell a dividend/split is coming.\n",
    "  - Stocks that have undergone multiple splits will have very low prices in the past."
   ]
  },
  {
   "cell_type": "markdown",
   "metadata": {
    "slideshow": {
     "slide_type": "fragment"
    }
   },
   "source": [
    "- Still doesn't help for restatements.\n",
    "  - Faithfully representing restated values **requires** quoting different values at different sim times."
   ]
  },
  {
   "cell_type": "markdown",
   "metadata": {
    "slideshow": {
     "slide_type": "subslide"
    }
   },
   "source": [
    "## When in Doubt, Add Another Dimension"
   ]
  },
  {
   "cell_type": "markdown",
   "metadata": {
    "slideshow": {
     "slide_type": "fragment"
    }
   },
   "source": [
    " Naively, we want to say something like this: \n",
    "\n",
    "$$D(a, t)$$ \n",
    "\n",
    "is the value of dataset $D$ for asset $a$ at time $t$."
   ]
  },
  {
   "cell_type": "markdown",
   "metadata": {
    "slideshow": {
     "slide_type": "fragment"
    }
   },
   "source": [
    "This abstraction is broken in the face of splits, dividends, and restatements."
   ]
  },
  {
   "cell_type": "markdown",
   "metadata": {
    "slideshow": {
     "slide_type": "subslide"
    }
   },
   "source": [
    "## When in Doubt, Add Another Dimension\n",
    "\n",
    "What we **can** say is this: \n",
    "\n",
    "$$D(a, t, t_{ref})$$\n",
    "\n",
    "is the value of $D$ for asset $a$ at time $t$ **from the perspective of time $t_{ref}$**."
   ]
  },
  {
   "cell_type": "markdown",
   "metadata": {
    "slideshow": {
     "slide_type": "slide"
    }
   },
   "source": [
    "# Napkin Math:"
   ]
  },
  {
   "cell_type": "code",
   "execution_count": 8,
   "metadata": {
    "collapsed": false,
    "scrolled": true,
    "slideshow": {
     "slide_type": "-"
    }
   },
   "outputs": [
    {
     "name": "stdout",
     "output_type": "stream",
     "text": [
      "Number of Assets: 20353\n",
      "Number of Dates: 3480\n",
      "Naive Dataset Size: 4.0 GB\n"
     ]
    }
   ],
   "source": [
    "from bcolz import open\n",
    "from humanize import naturalsize\n",
    "\n",
    "all_prices = open('data/equity_daily_bars.bcolz')\n",
    "min_offset = min(all_prices.attrs['calendar_offset'].itervalues())\n",
    "max_offset = max(all_prices.attrs['calendar_offset'].itervalues())\n",
    "calendar = pd.DatetimeIndex(all_prices.attrs['calendar'])[min_offset:max_offset]\n",
    "\n",
    "nassets = len(lifetimes.columns)\n",
    "ndates = len(calendar)\n",
    "nfields = len(('id', 'open', 'high', 'low', 'close', 'volume', 'date'))\n",
    "\n",
    "print \"Number of Assets: %d\" % nassets\n",
    "print \"Number of Dates: %d\" % ndates\n",
    "print \"Naive Dataset Size: %s\" % naturalsize(\n",
    "    nassets * ndates * nfields * 8\n",
    ")"
   ]
  },
  {
   "cell_type": "markdown",
   "metadata": {
    "slideshow": {
     "slide_type": "subslide"
    }
   },
   "source": [
    "### Data Size on Disk"
   ]
  },
  {
   "cell_type": "code",
   "execution_count": 9,
   "metadata": {
    "collapsed": false,
    "slideshow": {
     "slide_type": "-"
    }
   },
   "outputs": [
    {
     "name": "stdout",
     "output_type": "stream",
     "text": [
      "299M\tdata/equity_daily_bars.bcolz\n",
      "30M\tdata/adjustments.db\n"
     ]
    }
   ],
   "source": [
    "!du -h -d0 data/equity_daily_bars.bcolz\n",
    "!du -h -d0 data/adjustments.db"
   ]
  },
  {
   "cell_type": "markdown",
   "metadata": {
    "slideshow": {
     "slide_type": "fragment"
    }
   },
   "source": [
    "Tricks used to make dataset smaller:\n",
    "- Don't store entries on dates for which an asset didn't exist.\n",
    "  - Instead, store offset into the calendar of the date the asset started/stopped trading.\n",
    "- Represent data points as 32-bit unsigned ints on disk.\n",
    "  - Going from 64-bit to 32-bit cuts the data size in half.\n",
    "  - Switching from floating-point to integer dramatically improves compression ratio."
   ]
  },
  {
   "cell_type": "markdown",
   "metadata": {
    "slideshow": {
     "slide_type": "slide"
    }
   },
   "source": [
    "# Data Structures for Representing Perspectival Data"
   ]
  },
  {
   "cell_type": "markdown",
   "metadata": {
    "slideshow": {
     "slide_type": "fragment"
    }
   },
   "source": [
    "> **Rule 5:** Data dominates. If you've chosen the right data structures and organized things well, the algorithms will almost always be self-evident. **Data structures**, not algorithms, are central to programming. - Rob Pike"
   ]
  },
  {
   "cell_type": "code",
   "execution_count": 10,
   "metadata": {
    "collapsed": true,
    "slideshow": {
     "slide_type": "slide"
    }
   },
   "outputs": [],
   "source": [
    "import pandas as pd\n",
    "from zipline.utils.tradingcalendar import trading_day\n",
    "from zipline.pipeline.data import USEquityPricing\n",
    "from zipline.pipeline.loaders import USEquityPricingLoader\n",
    "\n",
    "loader = USEquityPricingLoader.from_files(\n",
    "    'data/equity_daily_bars.bcolz',\n",
    "    'data/adjustments.db'\n",
    ")\n",
    "dates = pd.date_range(\n",
    "    '2014-5-20', \n",
    "    '2014-06-30', \n",
    "    freq=trading_day,\n",
    "    tz='UTC',\n",
    ")"
   ]
  },
  {
   "cell_type": "code",
   "execution_count": 11,
   "metadata": {
    "collapsed": false,
    "scrolled": false,
    "slideshow": {
     "slide_type": "subslide"
    }
   },
   "outputs": [
    {
     "data": {
      "text/plain": [
       "Adjusted Array:\n",
       "\n",
       "Data:\n",
       " array([[ 604.4 ,   39.74],\n",
       "       [ 604.55,   39.69],\n",
       "       [ 606.28,   40.35],\n",
       "       ..., \n",
       "       [  90.35,   42.02],\n",
       "       [  90.92,   41.73],\n",
       "       [  91.96,   42.24]])\n",
       "\n",
       "Adjustments:\n",
       "{13: [Float64Multiply(first_row=0, last_row=13, first_col=0, last_col=0, value=0.142860)]}"
      ]
     },
     "execution_count": 11,
     "metadata": {},
     "output_type": "execute_result"
    }
   ],
   "source": [
    "# load_adjusted_array() returns a dictionary mapping columns to instances of `AdjustedArray`.\n",
    "(closes,) = loader.load_adjusted_array(\n",
    "    columns=[USEquityPricing.close],\n",
    "    dates=dates,\n",
    "    assets=pd.Int64Index([24, 5061]),\n",
    "    mask=None,\n",
    ").values()\n",
    "closes"
   ]
  },
  {
   "cell_type": "code",
   "execution_count": 14,
   "metadata": {
    "collapsed": false,
    "slideshow": {
     "slide_type": "subslide"
    }
   },
   "outputs": [
    {
     "data": {
      "text/plain": [
       "_Float64AdjustedArrayWindow\n",
       "Window Length: 5\n",
       "Current Buffer:\n",
       "[[ 604.4     39.74 ]\n",
       " [ 604.55    39.69 ]\n",
       " [ 606.28    40.35 ]\n",
       " [ 607.33    40.105]\n",
       " [ 614.14    40.12 ]]\n",
       "Remaining Adjustments:\n",
       "{13: [Float64Multiply(first_row=0, last_row=13, first_col=0, last_col=0, value=0.142860)]}"
      ]
     },
     "execution_count": 14,
     "metadata": {},
     "output_type": "execute_result"
    }
   ],
   "source": [
    "dates_iter = iter(dates[4:])\n",
    "window = closes.traverse(5)\n",
    "window"
   ]
  },
  {
   "cell_type": "code",
   "execution_count": 15,
   "metadata": {
    "collapsed": false,
    "slideshow": {
     "slide_type": "subslide"
    }
   },
   "outputs": [
    {
     "name": "stdout",
     "output_type": "stream",
     "text": [
      "[[ 604.4     39.74 ]\n",
      " [ 604.55    39.69 ]\n",
      " [ 606.28    40.35 ]\n",
      " [ 607.33    40.105]\n",
      " [ 614.14    40.12 ]]\n",
      "2014-05-27 00:00:00+00:00\n"
     ]
    }
   ],
   "source": [
    "# This cell is run multiple times to show the numbers scrolling up until we hit the split.\n",
    "data = next(window)\n",
    "print data\n",
    "print next(dates_iter)"
   ]
  },
  {
   "cell_type": "markdown",
   "metadata": {
    "slideshow": {
     "slide_type": "slide"
    }
   },
   "source": [
    "# Future Work"
   ]
  },
  {
   "cell_type": "markdown",
   "metadata": {
    "slideshow": {
     "slide_type": "subslide"
    }
   },
   "source": [
    "### Near Term:\n",
    "- Classifiers/Normalization schemes\n",
    "- Non-numeric data types. (Currently we only support `float` and `bool`).\n",
    "- Datasets that have more than one data point per asset/day.\n",
    "  - Earnings estimates.\n",
    "  - Calendars.\n",
    "  - More exotic data?"
   ]
  },
  {
   "cell_type": "markdown",
   "metadata": {
    "slideshow": {
     "slide_type": "subslide"
    }
   },
   "source": [
    "### Longer Term:\n",
    "\n",
    "- Parallel and/or Remote execution engines.\n",
    "  - Leveraging `dask` is a potentially interesting route.\n",
    "- Just-in-time compilation of factor compute functions."
   ]
  },
  {
   "cell_type": "markdown",
   "metadata": {
    "slideshow": {
     "slide_type": "slide"
    }
   },
   "source": [
    "# Questions?"
   ]
  }
 ],
 "metadata": {
  "celltoolbar": "Slideshow",
  "kernelspec": {
   "display_name": "Python 2",
   "language": "python",
   "name": "python2"
  },
  "language_info": {
   "codemirror_mode": {
    "name": "ipython",
    "version": 2
   },
   "file_extension": ".py",
   "mimetype": "text/x-python",
   "name": "python",
   "nbconvert_exporter": "python",
   "pygments_lexer": "ipython2",
   "version": "2.7.10"
  }
 },
 "nbformat": 4,
 "nbformat_minor": 0
}
